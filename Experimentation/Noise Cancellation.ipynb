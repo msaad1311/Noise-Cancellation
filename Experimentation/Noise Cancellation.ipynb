{
 "cells": [
  {
   "cell_type": "code",
   "execution_count": 1,
   "metadata": {},
   "outputs": [],
   "source": [
    "#!/usr/bin/env python3\n",
    "import soundfile as sf\n",
    "import sounddevice as sd\n",
    "import winsound\n",
    "import numpy as np\n",
    "import pyaudio\n",
    "import math\n",
    "import librosa\n",
    "import time\n",
    "import sys\n",
    "import matplotlib.pyplot as plt\n",
    "from sklearn.preprocessing import MinMaxScaler\n",
    "import tflite_runtime.interpreter as tflite"
   ]
  },
  {
   "cell_type": "code",
   "execution_count": 8,
   "metadata": {},
   "outputs": [],
   "source": [
    "block_len = 512\n",
    "block_shift = 128\n",
    "# # load model\n",
    "# model = tf.saved_model.load('dtln_saved_model')\n",
    "# infer = model.signatures[\"serving_default\"]\n",
    "inputAudio = r'D:\\Noise Cancellation\\Experimentation\\dataset\\traffic_sound.wav'\n",
    "RATE = 16000\n",
    "# # CHUNK = int(RATE/20) # RATE / number of updates per second"
   ]
  },
  {
   "cell_type": "code",
   "execution_count": 6,
   "metadata": {},
   "outputs": [],
   "source": [
    "def soundplot(stream):\n",
    "    t1=time.time()\n",
    "    data = np.fromstring(stream.read(RATE),dtype=np.int16)\n",
    "    return data\n",
    "\n",
    "def start_stream(duration):\n",
    "    da=[]\n",
    "    p=pyaudio.PyAudio()\n",
    "    stream=p.open(format=pyaudio.paInt16,channels=1,rate=RATE,input=True)\n",
    "    for i in range(duration):\n",
    "        #if i%10==0: print(i) \n",
    "#         print(i)\n",
    "        d=soundplot(stream)\n",
    "        da.append(soundplot(stream)) \n",
    "    stream.stop_stream()\n",
    "    stream.close()\n",
    "    p.terminate()\n",
    "    print('Recording Completed')\n",
    "    return np.array(da).reshape(-1)\n",
    "\n",
    "def scaled(inputs,ranges):\n",
    "    scaler = MinMaxScaler(feature_range=ranges)\n",
    "    foo = scaler.fit_transform(inputs.reshape(-1,1))\n",
    "    return foo,scaler\n",
    "\n",
    "def get_noise_from_sound(signal,noise,SNR):\n",
    "    RMS_s=math.sqrt(np.mean(signal**2))\n",
    "    #required RMS of noise\n",
    "    RMS_n=math.sqrt(RMS_s**2/(pow(10,SNR/10)))\n",
    "    \n",
    "    #current RMS of noise\n",
    "    RMS_n_current=math.sqrt(np.mean(noise**2))\n",
    "    noise=noise*(RMS_n/RMS_n_current)\n",
    "    \n",
    "    return noise\n",
    "\n",
    "def mixer(clean,noisy,snr,scaler):\n",
    "    if(len(noisy)>len(clean)):\n",
    "        noisy=noisy[0:len(clean)] \n",
    "    noisy = get_noise_from_sound(clean,noisy,SNR=snr)\n",
    "    mixed = clean+noisy\n",
    "    if scaler != None:\n",
    "        mixed = scaler.inverse_transform(mixed)\n",
    "    return mixed\n",
    "    \n",
    "\n",
    "def cleanup(audio):\n",
    "    interpreter_1 = tflite.Interpreter(model_path='pretrained_models/model_1.tflite')\n",
    "    interpreter_1.allocate_tensors()\n",
    "    interpreter_2 = tflite.Interpreter(model_path='pretrained_models/model_2.tflite')\n",
    "    interpreter_2.allocate_tensors()\n",
    "\n",
    "    # Get input and output tensors.\n",
    "    input_details_1 = interpreter_1.get_input_details()\n",
    "    output_details_1 = interpreter_1.get_output_details()\n",
    "\n",
    "    input_details_2 = interpreter_2.get_input_details()\n",
    "    output_details_2 = interpreter_2.get_output_details()\n",
    "    # create states for the lstms\n",
    "    states_1 = np.zeros(input_details_1[1]['shape']).astype('float32')\n",
    "    states_2 = np.zeros(input_details_2[1]['shape']).astype('float32')\n",
    "    # preallocate output audio\n",
    "    out_file = np.zeros((len(audio)))\n",
    "    # create buffer\n",
    "    in_buffer = np.zeros((block_len)).astype('float32')\n",
    "    out_buffer = np.zeros((block_len)).astype('float32')\n",
    "    # calculate number of blocks\n",
    "    num_blocks = (audio.shape[0] - (block_len-block_shift)) // block_shift\n",
    "    time_array = []      \n",
    "    # iterate over the number of blcoks        \n",
    "    for idx in range(num_blocks):\n",
    "        start_time = time.time()\n",
    "        # shift values and write to buffer\n",
    "        in_buffer[:-block_shift] = in_buffer[block_shift:]\n",
    "        in_buffer[-block_shift:] = audio[idx*block_shift:(idx*block_shift)+block_shift]\n",
    "        # calculate fft of input block\n",
    "        in_block_fft = np.fft.rfft(in_buffer)\n",
    "        in_mag = np.abs(in_block_fft)\n",
    "        in_phase = np.angle(in_block_fft)\n",
    "        # reshape magnitude to input dimensions\n",
    "        in_mag = np.reshape(in_mag, (1,1,-1)).astype('float32')\n",
    "        # set tensors to the first model\n",
    "        interpreter_1.set_tensor(input_details_1[1]['index'], states_1)\n",
    "        interpreter_1.set_tensor(input_details_1[0]['index'], in_mag)\n",
    "        # run calculation \n",
    "        interpreter_1.invoke()\n",
    "        # get the output of the first block\n",
    "        out_mask = interpreter_1.get_tensor(output_details_1[0]['index']) \n",
    "        states_1 = interpreter_1.get_tensor(output_details_1[1]['index'])   \n",
    "        # calculate the ifft\n",
    "        estimated_complex = in_mag * out_mask * np.exp(1j * in_phase)\n",
    "        estimated_block = np.fft.irfft(estimated_complex)\n",
    "        # reshape the time domain block\n",
    "        estimated_block = np.reshape(estimated_block, (1,1,-1)).astype('float32')\n",
    "        # set tensors to the second block\n",
    "        interpreter_2.set_tensor(input_details_2[1]['index'], states_2)\n",
    "        interpreter_2.set_tensor(input_details_2[0]['index'], estimated_block)\n",
    "        # run calculation\n",
    "        interpreter_2.invoke()\n",
    "        # get output tensors\n",
    "        out_block = interpreter_2.get_tensor(output_details_2[0]['index']) \n",
    "        states_2 = interpreter_2.get_tensor(output_details_2[1]['index']) \n",
    "\n",
    "\n",
    "        # shift values and write to buffer\n",
    "        out_buffer[:-block_shift] = out_buffer[block_shift:]\n",
    "        out_buffer[-block_shift:] = np.zeros((block_shift))\n",
    "        out_buffer  += np.squeeze(out_block)\n",
    "        # write block to output file\n",
    "        out_file[idx*block_shift:(idx*block_shift)+block_shift] = out_buffer[:block_shift]\n",
    "        time_array.append(time.time()-start_time)\n",
    "    return out_file"
   ]
  },
  {
   "cell_type": "code",
   "execution_count": 14,
   "metadata": {},
   "outputs": [],
   "source": [
    "# recordAudio = start_stream(5)\n",
    "noiseAudio, sampleRate = librosa.load(inputAudio, sr=16000)\n",
    "\n",
    "if sampleRate != 16000:\n",
    "    raise ValueError('This model only supports 16k sampling rate.')\n",
    "\n",
    "cleanAudio,cleanScaler = scaled(recordAudio,(-1,1))\n",
    "noiseAudio,noiseScaler = scaled(noiseAudio,(-1,1))\n",
    "mixedAudio = mixer(cleanAudio,noiseAudio,10,None)\n",
    "\n",
    "outAudio = cleanup(np.squeeze(mixedAudio))"
   ]
  },
  {
   "cell_type": "code",
   "execution_count": 15,
   "metadata": {},
   "outputs": [
    {
     "name": "stdout",
     "output_type": "stream",
     "text": [
      "Playing the noisy sound\n"
     ]
    }
   ],
   "source": [
    "print('Playing the noisy sound')\n",
    "sd.play(mixedAudio,sampleRate)"
   ]
  },
  {
   "cell_type": "code",
   "execution_count": 16,
   "metadata": {},
   "outputs": [
    {
     "name": "stdout",
     "output_type": "stream",
     "text": [
      "Playing the cleaned sound\n"
     ]
    }
   ],
   "source": [
    "print('Playing the cleaned sound')\n",
    "sd.play(outAudio,sampleRate)"
   ]
  },
  {
   "cell_type": "code",
   "execution_count": 26,
   "metadata": {},
   "outputs": [
    {
     "name": "stdout",
     "output_type": "stream",
     "text": [
      "Hello\n"
     ]
    },
    {
     "data": {
      "text/plain": [
       "'Hello'"
      ]
     },
     "execution_count": 26,
     "metadata": {},
     "output_type": "execute_result"
    }
   ],
   "source": [
    "input()"
   ]
  },
  {
   "cell_type": "code",
   "execution_count": null,
   "metadata": {},
   "outputs": [],
   "source": []
  },
  {
   "cell_type": "code",
   "execution_count": null,
   "metadata": {},
   "outputs": [],
   "source": []
  },
  {
   "cell_type": "code",
   "execution_count": null,
   "metadata": {},
   "outputs": [],
   "source": []
  },
  {
   "cell_type": "code",
   "execution_count": null,
   "metadata": {},
   "outputs": [],
   "source": []
  },
  {
   "cell_type": "code",
   "execution_count": null,
   "metadata": {},
   "outputs": [],
   "source": []
  },
  {
   "cell_type": "code",
   "execution_count": null,
   "metadata": {},
   "outputs": [],
   "source": []
  },
  {
   "cell_type": "code",
   "execution_count": 7,
   "metadata": {},
   "outputs": [],
   "source": [
    "winsound.PlaySound(inputAudio, winsound.SND_FILENAME)"
   ]
  },
  {
   "cell_type": "code",
   "execution_count": 8,
   "metadata": {},
   "outputs": [
    {
     "data": {
      "text/plain": [
       "(160000,)"
      ]
     },
     "execution_count": 8,
     "metadata": {},
     "output_type": "execute_result"
    }
   ],
   "source": [
    "audio.shape"
   ]
  },
  {
   "cell_type": "code",
   "execution_count": 9,
   "metadata": {},
   "outputs": [
    {
     "name": "stdout",
     "output_type": "stream",
     "text": [
      "Processing finished.\n"
     ]
    }
   ],
   "source": [
    "if fs != 16000:\n",
    "    raise ValueError('This model only supports 16k sampling rate.')\n",
    "# preallocate output audio\n",
    "out_file = np.zeros((len(audio)))\n",
    "# create buffer\n",
    "in_buffer = np.zeros((block_len))\n",
    "out_buffer = np.zeros((block_len))\n",
    "# calculate number of blocks\n",
    "num_blocks = (audio.shape[0] - (block_len-block_shift)) // block_shift\n",
    "# iterate over the number of blcoks        \n",
    "for idx in range(num_blocks):\n",
    "    # shift values and write to buffer\n",
    "    in_buffer[:-block_shift] = in_buffer[block_shift:]\n",
    "    in_buffer[-block_shift:] = audio[idx*block_shift:(idx*block_shift)+block_shift]\n",
    "    # create a batch dimension of one\n",
    "    in_block = np.expand_dims(in_buffer, axis=0).astype('float32')\n",
    "    # process one block\n",
    "    out_block= infer(tf.constant(in_block))['conv1d_1']\n",
    "    # shift values and write to buffer\n",
    "    out_buffer[:-block_shift] = out_buffer[block_shift:]\n",
    "    out_buffer[-block_shift:] = np.zeros((block_shift))\n",
    "    out_buffer  += np.squeeze(out_block)\n",
    "    # write block to output file\n",
    "    out_file[idx*block_shift:(idx*block_shift)+block_shift] = out_buffer[:block_shift]\n",
    "    \n",
    "    \n",
    "# write to .wav file \n",
    "sf.write(r'D:\\Noise Cancellation\\Experimentation\\dataset\\out.wav', out_file, fs) \n",
    "\n",
    "print('Processing finished.')"
   ]
  },
  {
   "cell_type": "code",
   "execution_count": 3,
   "metadata": {},
   "outputs": [],
   "source": [
    "\n",
    "\n",
    "\n"
   ]
  },
  {
   "cell_type": "code",
   "execution_count": 6,
   "metadata": {},
   "outputs": [
    {
     "data": {
      "text/plain": [
       "4455508415646675013373597242420117818453694838130159772560668808816707086990958982033203334310070688731662890013605553436739351074980172000127431349940128178077122187317837794167991459381249"
      ]
     },
     "execution_count": 6,
     "metadata": {},
     "output_type": "execute_result"
    }
   ],
   "source": [
    "sys.maxsize**10"
   ]
  },
  {
   "cell_type": "code",
   "execution_count": 4,
   "metadata": {},
   "outputs": [
    {
     "name": "stdout",
     "output_type": "stream",
     "text": [
      "0\n"
     ]
    },
    {
     "name": "stderr",
     "output_type": "stream",
     "text": [
      "<ipython-input-3-758be9e77676>:14: DeprecationWarning: The binary mode of fromstring is deprecated, as it behaves surprisingly on unicode inputs. Use frombuffer instead\n",
      "  data = np.fromstring(stream.read(RATE),dtype=np.int16)\n"
     ]
    },
    {
     "name": "stdout",
     "output_type": "stream",
     "text": [
      "1\n",
      "2\n",
      "3\n"
     ]
    }
   ],
   "source": [
    "if __name__==\"__main__\":\n",
    "    da=[]\n",
    "    p=pyaudio.PyAudio()\n",
    "    stream=p.open(format=pyaudio.paInt16,channels=1,rate=RATE,input=True,\n",
    "                  frames_per_buffer=CHUNK)\n",
    "    for i in range(4):\n",
    "        #if i%10==0: print(i) \n",
    "        print(i)\n",
    "        d=soundplot(stream)\n",
    "        da.append(soundplot(stream)) \n",
    "    stream.stop_stream()\n",
    "    stream.close()\n",
    "    p.terminate()"
   ]
  },
  {
   "cell_type": "code",
   "execution_count": 5,
   "metadata": {
    "scrolled": true
   },
   "outputs": [
    {
     "data": {
      "text/plain": [
       "(4, 16000)"
      ]
     },
     "execution_count": 5,
     "metadata": {},
     "output_type": "execute_result"
    }
   ],
   "source": [
    "da=np.array(da)\n",
    "da.shape"
   ]
  },
  {
   "cell_type": "code",
   "execution_count": 6,
   "metadata": {},
   "outputs": [],
   "source": [
    "da1 = da.reshape(-1)"
   ]
  },
  {
   "cell_type": "code",
   "execution_count": 7,
   "metadata": {},
   "outputs": [
    {
     "data": {
      "text/plain": [
       "(64000,)"
      ]
     },
     "execution_count": 7,
     "metadata": {},
     "output_type": "execute_result"
    }
   ],
   "source": [
    "da1.shape"
   ]
  },
  {
   "cell_type": "code",
   "execution_count": 8,
   "metadata": {},
   "outputs": [],
   "source": [
    "import sounddevice as sd"
   ]
  },
  {
   "cell_type": "code",
   "execution_count": 9,
   "metadata": {},
   "outputs": [],
   "source": [
    "sd.play(da1,16000)"
   ]
  },
  {
   "cell_type": "code",
   "execution_count": 13,
   "metadata": {},
   "outputs": [],
   "source": [
    "inputAudio = r'D:\\Noise Cancellation\\Experimentation\\dataset\\traffic_sound.wav'\n",
    "# audio,fs = sf.read(inputAudio)\n",
    "# print(fs)"
   ]
  },
  {
   "cell_type": "code",
   "execution_count": 19,
   "metadata": {},
   "outputs": [
    {
     "data": {
      "text/plain": [
       "(2919464, 2)"
      ]
     },
     "execution_count": 19,
     "metadata": {},
     "output_type": "execute_result"
    }
   ],
   "source": [
    "audio.shape"
   ]
  },
  {
   "cell_type": "code",
   "execution_count": 20,
   "metadata": {},
   "outputs": [],
   "source": [
    "import matplotlib.pyplot as plt"
   ]
  },
  {
   "cell_type": "code",
   "execution_count": 22,
   "metadata": {},
   "outputs": [
    {
     "data": {
      "text/plain": [
       "[<matplotlib.lines.Line2D at 0x23d90f3f580>]"
      ]
     },
     "execution_count": 22,
     "metadata": {},
     "output_type": "execute_result"
    },
    {
     "data": {
      "image/png": "[encoded data removed]",
      "text/plain": [
       "<Figure size 432x288 with 1 Axes>"
      ]
     },
     "metadata": {
      "needs_background": "light"
     },
     "output_type": "display_data"
    }
   ],
   "source": [
    "plt.plot(audio[:,0])"
   ]
  },
  {
   "cell_type": "code",
   "execution_count": 11,
   "metadata": {},
   "outputs": [],
   "source": [
    "import librosa"
   ]
  },
  {
   "cell_type": "code",
   "execution_count": 14,
   "metadata": {},
   "outputs": [],
   "source": [
    " # Downsample 44.1kHz to 8kHz"
   ]
  },
  {
   "cell_type": "code",
   "execution_count": 15,
   "metadata": {},
   "outputs": [
    {
     "data": {
      "text/plain": [
       "[<matplotlib.lines.Line2D at 0x15d400885e0>]"
      ]
     },
     "execution_count": 15,
     "metadata": {},
     "output_type": "execute_result"
    },
    {
     "data": {
      "image/png": "[encoded data removed]",
      "text/plain": [
       "<Figure size 432x288 with 1 Axes>"
      ]
     },
     "metadata": {
      "needs_background": "light"
     },
     "output_type": "display_data"
    }
   ],
   "source": [
    "plt.plot(y)"
   ]
  },
  {
   "cell_type": "code",
   "execution_count": 16,
   "metadata": {},
   "outputs": [],
   "source": [
    "sd.play(y[:len(da1)],16000)"
   ]
  },
  {
   "cell_type": "code",
   "execution_count": 17,
   "metadata": {},
   "outputs": [],
   "source": [
    "sd.stop()"
   ]
  },
  {
   "cell_type": "code",
   "execution_count": 18,
   "metadata": {},
   "outputs": [
    {
     "data": {
      "text/plain": [
       "(1059216,)"
      ]
     },
     "execution_count": 18,
     "metadata": {},
     "output_type": "execute_result"
    }
   ],
   "source": [
    "y.shape"
   ]
  },
  {
   "cell_type": "code",
   "execution_count": 19,
   "metadata": {},
   "outputs": [
    {
     "data": {
      "text/plain": [
       "(64000,)"
      ]
     },
     "execution_count": 19,
     "metadata": {},
     "output_type": "execute_result"
    }
   ],
   "source": [
    "da1.shape"
   ]
  },
  {
   "cell_type": "code",
   "execution_count": 29,
   "metadata": {},
   "outputs": [],
   "source": []
  },
  {
   "cell_type": "code",
   "execution_count": 30,
   "metadata": {},
   "outputs": [],
   "source": []
  },
  {
   "cell_type": "code",
   "execution_count": 31,
   "metadata": {},
   "outputs": [
    {
     "data": {
      "text/plain": [
       "(64000, 1)"
      ]
     },
     "execution_count": 31,
     "metadata": {},
     "output_type": "execute_result"
    }
   ],
   "source": [
    "foo.shape"
   ]
  },
  {
   "cell_type": "code",
   "execution_count": 33,
   "metadata": {},
   "outputs": [
    {
     "data": {
      "text/plain": [
       "1.0"
      ]
     },
     "execution_count": 33,
     "metadata": {},
     "output_type": "execute_result"
    }
   ],
   "source": [
    "foo.max()"
   ]
  },
  {
   "cell_type": "code",
   "execution_count": 34,
   "metadata": {},
   "outputs": [
    {
     "data": {
      "text/plain": [
       "[<matplotlib.lines.Line2D at 0x15d42706220>]"
      ]
     },
     "execution_count": 34,
     "metadata": {},
     "output_type": "execute_result"
    },
    {
     "data": {
      "image/png": "[encoded data removed]",
      "text/plain": [
       "<Figure size 432x288 with 1 Axes>"
      ]
     },
     "metadata": {
      "needs_background": "light"
     },
     "output_type": "display_data"
    }
   ],
   "source": [
    "plt.plot(foo)"
   ]
  },
  {
   "cell_type": "code",
   "execution_count": 35,
   "metadata": {},
   "outputs": [],
   "source": [
    "sd.play(foo,16000)"
   ]
  },
  {
   "cell_type": "code",
   "execution_count": 27,
   "metadata": {},
   "outputs": [
    {
     "name": "stderr",
     "output_type": "stream",
     "text": [
      "<ipython-input-27-38621ec63bd0>:1: RuntimeWarning: overflow encountered in short_scalars\n",
      "  cleanAudio = 2*((da1 - da1.min())/(da1.max()-da1.min())) - 1\n"
     ]
    }
   ],
   "source": [
    "cleanAudio = 2*((da1 - da1.min())/(da1.max()-da1.min())) - 1\n",
    "noiseAudio = 2*((y - y.min())/(y.max()-y.min())) - 1"
   ]
  },
  {
   "cell_type": "code",
   "execution_count": 24,
   "metadata": {},
   "outputs": [
    {
     "data": {
      "text/plain": [
       "(-2.1937730164044194, 2.1939738868429863)"
      ]
     },
     "execution_count": 24,
     "metadata": {},
     "output_type": "execute_result"
    }
   ],
   "source": [
    "cleanAudio.min(),cleanAudio.max()"
   ]
  },
  {
   "cell_type": "code",
   "execution_count": 22,
   "metadata": {},
   "outputs": [
    {
     "data": {
      "text/plain": [
       "(-1.0, 1.0)"
      ]
     },
     "execution_count": 22,
     "metadata": {},
     "output_type": "execute_result"
    }
   ],
   "source": [
    "noiseAudio.min(),noiseAudio.max()"
   ]
  },
  {
   "cell_type": "code",
   "execution_count": 25,
   "metadata": {},
   "outputs": [
    {
     "data": {
      "text/plain": [
       "(-28118, 22483)"
      ]
     },
     "execution_count": 25,
     "metadata": {},
     "output_type": "execute_result"
    }
   ],
   "source": [
    "da1.min(),da1.max()"
   ]
  },
  {
   "cell_type": "code",
   "execution_count": 28,
   "metadata": {},
   "outputs": [
    {
     "data": {
      "text/plain": [
       "numpy.ndarray"
      ]
     },
     "execution_count": 28,
     "metadata": {},
     "output_type": "execute_result"
    }
   ],
   "source": [
    "type(da1)"
   ]
  },
  {
   "cell_type": "code",
   "execution_count": 26,
   "metadata": {},
   "outputs": [
    {
     "data": {
      "text/plain": [
       "(-0.097506896, 0.097912826)"
      ]
     },
     "execution_count": 26,
     "metadata": {},
     "output_type": "execute_result"
    }
   ],
   "source": [
    "y.min(),y.max()"
   ]
  },
  {
   "cell_type": "code",
   "execution_count": 45,
   "metadata": {},
   "outputs": [
    {
     "data": {
      "text/plain": [
       "(64000,)"
      ]
     },
     "execution_count": 45,
     "metadata": {},
     "output_type": "execute_result"
    }
   ],
   "source": [
    "noisy_sound = da1 + y[:len(da1)]\n",
    "noisy_sound.shape"
   ]
  },
  {
   "cell_type": "code",
   "execution_count": 38,
   "metadata": {},
   "outputs": [],
   "source": [
    "sd.play(noisy_sound,16000)"
   ]
  },
  {
   "cell_type": "code",
   "execution_count": null,
   "metadata": {},
   "outputs": [],
   "source": [
    "sd.stop()"
   ]
  },
  {
   "cell_type": "code",
   "execution_count": 42,
   "metadata": {},
   "outputs": [
    {
     "data": {
      "text/plain": [
       "[<matplotlib.lines.Line2D at 0x23db8aba4c0>]"
      ]
     },
     "execution_count": 42,
     "metadata": {},
     "output_type": "execute_result"
    },
    {
     "data": {
      "image/png": "[encoded data removed]",
      "text/plain": [
       "<Figure size 432x288 with 1 Axes>"
      ]
     },
     "metadata": {
      "needs_background": "light"
     },
     "output_type": "display_data"
    }
   ],
   "source": [
    "plt.plot(da1)"
   ]
  },
  {
   "cell_type": "code",
   "execution_count": 36,
   "metadata": {},
   "outputs": [
    {
     "data": {
      "text/plain": [
       "[<matplotlib.lines.Line2D at 0x15d429d4430>]"
      ]
     },
     "execution_count": 36,
     "metadata": {},
     "output_type": "execute_result"
    },
    {
     "data": {
      "image/png": "[encoded data removed]",
      "text/plain": [
       "<Figure size 432x288 with 1 Axes>"
      ]
     },
     "metadata": {
      "needs_background": "light"
     },
     "output_type": "display_data"
    }
   ],
   "source": [
    "plt.plot(noiseAudio)"
   ]
  },
  {
   "cell_type": "code",
   "execution_count": 46,
   "metadata": {},
   "outputs": [
    {
     "data": {
      "text/plain": [
       "[<matplotlib.lines.Line2D at 0x23db8594e20>]"
      ]
     },
     "execution_count": 46,
     "metadata": {},
     "output_type": "execute_result"
    },
    {
     "data": {
      "image/png": "[encoded data removed]",
      "text/plain": [
       "<Figure size 432x288 with 1 Axes>"
      ]
     },
     "metadata": {
      "needs_background": "light"
     },
     "output_type": "display_data"
    }
   ],
   "source": [
    "plt.plot(noisy_sound)"
   ]
  },
  {
   "cell_type": "code",
   "execution_count": 47,
   "metadata": {},
   "outputs": [],
   "source": [
    "sf.write(r'D:\\Noise Cancellation\\Experimentation\\dataset\\out.wav', noisy_sound, 16000) "
   ]
  },
  {
   "cell_type": "markdown",
   "metadata": {},
   "source": [
    "y \\--> noise\\\\\n",
    "da1 \\---> actual sound"
   ]
  },
  {
   "cell_type": "code",
   "execution_count": 48,
   "metadata": {},
   "outputs": [
    {
     "data": {
      "text/plain": [
       "(-0.097506896, 0.097912826)"
      ]
     },
     "execution_count": 48,
     "metadata": {},
     "output_type": "execute_result"
    }
   ],
   "source": [
    "y.min(),y.max()"
   ]
  },
  {
   "cell_type": "code",
   "execution_count": 49,
   "metadata": {},
   "outputs": [
    {
     "data": {
      "text/plain": [
       "(-11552, 8866)"
      ]
     },
     "execution_count": 49,
     "metadata": {},
     "output_type": "execute_result"
    }
   ],
   "source": [
    "da1.min(),da1.max()"
   ]
  },
  {
   "cell_type": "code",
   "execution_count": 69,
   "metadata": {},
   "outputs": [],
   "source": [
    "cleanAudio = np.interp(da1, (da1.min(), da1.max()), (-1, 1))\n",
    "noiseAudio = np.interp(y, (y.min(), y.max()), (-1, 1))"
   ]
  },
  {
   "cell_type": "code",
   "execution_count": 70,
   "metadata": {},
   "outputs": [],
   "source": []
  },
  {
   "cell_type": "code",
   "execution_count": 71,
   "metadata": {},
   "outputs": [
    {
     "data": {
      "text/plain": [
       "((64000,), (64000,))"
      ]
     },
     "execution_count": 71,
     "metadata": {},
     "output_type": "execute_result"
    }
   ],
   "source": [
    "noiseAudio.shape,cleanAudio.shape"
   ]
  },
  {
   "cell_type": "code",
   "execution_count": 37,
   "metadata": {},
   "outputs": [],
   "source": [
    "import math\n"
   ]
  },
  {
   "cell_type": "code",
   "execution_count": 47,
   "metadata": {},
   "outputs": [],
   "source": []
  },
  {
   "cell_type": "code",
   "execution_count": 48,
   "metadata": {},
   "outputs": [],
   "source": [
    "sd.play(noiseAudio1,16000)"
   ]
  },
  {
   "cell_type": "code",
   "execution_count": 49,
   "metadata": {},
   "outputs": [],
   "source": [
    "sd.stop()"
   ]
  },
  {
   "cell_type": "code",
   "execution_count": 42,
   "metadata": {},
   "outputs": [],
   "source": []
  },
  {
   "cell_type": "code",
   "execution_count": 87,
   "metadata": {},
   "outputs": [
    {
     "name": "stdout",
     "output_type": "stream",
     "text": [
      "SNR = 9.999999999999998\n"
     ]
    }
   ],
   "source": [
    "print(\"SNR = \" + str(20*np.log10(math.sqrt(np.mean(cleanAudio**2))/math.sqrt(np.mean(noiseAudio1**2)))))"
   ]
  },
  {
   "cell_type": "code",
   "execution_count": 43,
   "metadata": {},
   "outputs": [],
   "source": [
    "sd.play(mixedAudio,16000)"
   ]
  },
  {
   "cell_type": "code",
   "execution_count": 90,
   "metadata": {},
   "outputs": [
    {
     "name": "stdout",
     "output_type": "stream",
     "text": [
      "Processing finished.\n"
     ]
    }
   ],
   "source": [
    "\n",
    "    \n",
    "    \n",
    "# write to .wav file \n",
    "sf.write(r'D:\\Noise Cancellation\\Experimentation\\dataset\\out.wav', out_file, fs) \n",
    "\n",
    "print('Processing finished.')"
   ]
  },
  {
   "cell_type": "code",
   "execution_count": 94,
   "metadata": {},
   "outputs": [
    {
     "data": {
      "text/plain": [
       "1.0066605477288868"
      ]
     },
     "execution_count": 94,
     "metadata": {},
     "output_type": "execute_result"
    }
   ],
   "source": [
    "mixedAudio.max()"
   ]
  },
  {
   "cell_type": "code",
   "execution_count": null,
   "metadata": {},
   "outputs": [],
   "source": []
  }
 ],
 "metadata": {
  "kernelspec": {
   "display_name": "Python 3",
   "language": "python",
   "name": "python3"
  },
  "varInspector": {
   "cols": {
    "lenName": 16,
    "lenType": 16,
    "lenVar": 40
   },
   "kernels_config": {
    "python": {
     "delete_cmd_postfix": "",
     "delete_cmd_prefix": "del ",
     "library": "var_list.py",
     "varRefreshCmd": "print(var_dic_list())"
    },
    "r": {
     "delete_cmd_postfix": ") ",
     "delete_cmd_prefix": "rm(",
     "library": "var_list.r",
     "varRefreshCmd": "cat(var_dic_list()) "
    }
   },
   "types_to_exclude": [
    "module",
    "function",
    "builtin_function_or_method",
    "instance",
    "_Feature"
   ],
   "window_display": false
  }
 },
 "nbformat": 4,
 "nbformat_minor": 4
}
