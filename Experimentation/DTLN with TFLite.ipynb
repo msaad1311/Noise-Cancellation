{
 "cells": [
  {
   "cell_type": "code",
   "execution_count": 2,
   "id": "catholic-skiing",
   "metadata": {},
   "outputs": [],
   "source": [
    "import numpy as np\n",
    "import sounddevice as sd\n",
    "import tflite_runtime.interpreter as tflite\n",
    "import argparse"
   ]
  },
  {
   "cell_type": "code",
   "execution_count": 5,
   "id": "hydraulic-extreme",
   "metadata": {},
   "outputs": [
    {
     "name": "stdout",
     "output_type": "stream",
     "text": [
      "################################################################################\n",
      "press Return to quit\n",
      "################################################################################\n",
      "\n"
     ]
    }
   ],
   "source": [
    "block_len = 512\n",
    "block_shift = 128\n",
    "# load models\n",
    "interpreter_1 = tflite.Interpreter(model_path='pretrained_models/model_1.tflite')\n",
    "interpreter_1.allocate_tensors()\n",
    "interpreter_2 = tflite.Interpreter(model_path='pretrained_models/model_2.tflite')\n",
    "interpreter_2.allocate_tensors()\n",
    "\n",
    "# Get input and output tensors.\n",
    "input_details_1 = interpreter_1.get_input_details()\n",
    "output_details_1 = interpreter_1.get_output_details()\n",
    "\n",
    "input_details_2 = interpreter_2.get_input_details()\n",
    "output_details_2 = interpreter_2.get_output_details()\n",
    "# create states for the lstms\n",
    "states_1 = np.zeros(input_details_1[1]['shape']).astype('float32')\n",
    "states_2 = np.zeros(input_details_2[1]['shape']).astype('float32')\n",
    "# load audio file at 16k fs (please change)\n",
    "audio,fs = sf.read('path/to/your/favorite/.wav')\n",
    "# check for sampling rate\n",
    "if fs != 16000:\n",
    "    raise ValueError('This model only supports 16k sampling rate.')\n",
    "# preallocate output audio\n",
    "out_file = np.zeros((len(audio)))\n",
    "# create buffer\n",
    "in_buffer = np.zeros((block_len)).astype('float32')\n",
    "out_buffer = np.zeros((block_len)).astype('float32')\n",
    "# calculate number of blocks\n",
    "num_blocks = (audio.shape[0] - (block_len-block_shift)) // block_shift\n",
    "time_array = []      \n",
    "# iterate over the number of blcoks  \n",
    "for idx in range(num_blocks):\n",
    "    start_time = time.time()\n",
    "    # shift values and write to buffer\n",
    "    in_buffer[:-block_shift] = in_buffer[block_shift:]\n",
    "    in_buffer[-block_shift:] = audio[idx*block_shift:(idx*block_shift)+block_shift]\n",
    "    # calculate fft of input block\n",
    "    in_block_fft = np.fft.rfft(in_buffer)\n",
    "    in_mag = np.abs(in_block_fft)\n",
    "    in_phase = np.angle(in_block_fft)\n",
    "    # reshape magnitude to input dimensions\n",
    "    in_mag = np.reshape(in_mag, (1,1,-1)).astype('float32')\n",
    "    # set tensors to the first model\n",
    "    interpreter_1.set_tensor(input_details_1[1]['index'], states_1)\n",
    "    interpreter_1.set_tensor(input_details_1[0]['index'], in_mag)\n",
    "    # run calculation \n",
    "    interpreter_1.invoke()\n",
    "    # get the output of the first block\n",
    "    out_mask = interpreter_1.get_tensor(output_details_1[0]['index']) \n",
    "    states_1 = interpreter_1.get_tensor(output_details_1[1]['index'])   \n",
    "    # calculate the ifft\n",
    "    estimated_complex = in_mag * out_mask * np.exp(1j * in_phase)\n",
    "    estimated_block = np.fft.irfft(estimated_complex)\n",
    "    # reshape the time domain block\n",
    "    estimated_block = np.reshape(estimated_block, (1,1,-1)).astype('float32')\n",
    "    # set tensors to the second block\n",
    "    interpreter_2.set_tensor(input_details_2[1]['index'], states_2)\n",
    "    interpreter_2.set_tensor(input_details_2[0]['index'], estimated_block)\n",
    "    # run calculation\n",
    "    interpreter_2.invoke()\n",
    "    # get output tensors\n",
    "    out_block = interpreter_2.get_tensor(output_details_2[0]['index']) \n",
    "    states_2 = interpreter_2.get_tensor(output_details_2[1]['index']) \n",
    "    \n",
    "    \n",
    "    # shift values and write to buffer\n",
    "    out_buffer[:-block_shift] = out_buffer[block_shift:]\n",
    "    out_buffer[-block_shift:] = np.zeros((block_shift))\n",
    "    out_buffer  += np.squeeze(out_block)\n",
    "    # write block to output file\n",
    "    out_file[idx*block_shift:(idx*block_shift)+block_shift] = out_buffer[:block_shift]\n",
    "    time_array.append(time.time()-start_time)"
   ]
  },
  {
   "cell_type": "code",
   "execution_count": null,
   "id": "shaped-index",
   "metadata": {},
   "outputs": [],
   "source": []
  }
 ],
 "metadata": {
  "kernelspec": {
   "display_name": "Python 3",
   "language": "python",
   "name": "python3"
  },
  "language_info": {
   "codemirror_mode": {
    "name": "ipython",
    "version": 3
   },
   "file_extension": ".py",
   "mimetype": "text/x-python",
   "name": "python",
   "nbconvert_exporter": "python",
   "pygments_lexer": "ipython3",
   "version": "3.8.5"
  },
  "varInspector": {
   "cols": {
    "lenName": 16,
    "lenType": 16,
    "lenVar": 40
   },
   "kernels_config": {
    "python": {
     "delete_cmd_postfix": "",
     "delete_cmd_prefix": "del ",
     "library": "var_list.py",
     "varRefreshCmd": "print(var_dic_list())"
    },
    "r": {
     "delete_cmd_postfix": ") ",
     "delete_cmd_prefix": "rm(",
     "library": "var_list.r",
     "varRefreshCmd": "cat(var_dic_list()) "
    }
   },
   "types_to_exclude": [
    "module",
    "function",
    "builtin_function_or_method",
    "instance",
    "_Feature"
   ],
   "window_display": false
  }
 },
 "nbformat": 4,
 "nbformat_minor": 5
}
